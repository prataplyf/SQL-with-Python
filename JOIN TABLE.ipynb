{
 "cells": [
  {
   "cell_type": "code",
   "execution_count": 1,
   "metadata": {},
   "outputs": [],
   "source": [
    "import mysql.connector"
   ]
  },
  {
   "cell_type": "code",
   "execution_count": 2,
   "metadata": {},
   "outputs": [],
   "source": [
    "mydb = mysql.connector.connect(host='localhost',\n",
    "                               user='ZenithieR',\n",
    "                               passwd='1256',\n",
    "                               database='mydatabase')\n",
    "mycursor = mydb.cursor()"
   ]
  },
  {
   "cell_type": "code",
   "execution_count": 3,
   "metadata": {
    "scrolled": true
   },
   "outputs": [
    {
     "name": "stdout",
     "output_type": "stream",
     "text": [
      "('John', 'Delhi 6', 1)\n",
      "('Peter', 'Lowstreet 4', 2)\n",
      "('Amy', 'Apple st 652', 3)\n",
      "('Michael', 'Valley 345', 5)\n",
      "('Sandy', 'Ocean blvd 2', 6)\n",
      "('Betty', 'Green Grass 1', 7)\n",
      "('Richard', 'Sky st 331', 8)\n",
      "('Susan', 'One way 98', 9)\n",
      "('Ben', 'Park Lane 38', 11)\n",
      "('William', 'Central st 954', 12)\n",
      "('Chuck', 'Main Road 989', 13)\n",
      "('Viola', 'Sideway 1633', 14)\n",
      "('Michelle', 'Blue Village', 15)\n"
     ]
    }
   ],
   "source": [
    "mycursor.execute(\"select * from customer\")\n",
    "myresult= mycursor.fetchall()\n",
    "for x in myresult:\n",
    "    print(x)"
   ]
  },
  {
   "cell_type": "code",
   "execution_count": 9,
   "metadata": {},
   "outputs": [],
   "source": [
    "mydb = mysql.connector.connect(host='localhost',\n",
    "                               user='ZenithieR',\n",
    "                               passwd='1256',\n",
    "                               database='mydatabase')\n",
    "mycursor = mydb.cursor()"
   ]
  },
  {
   "cell_type": "code",
   "execution_count": 10,
   "metadata": {},
   "outputs": [],
   "source": [
    "mycursor = mydb.cursor()"
   ]
  },
  {
   "cell_type": "code",
   "execution_count": 12,
   "metadata": {},
   "outputs": [],
   "source": [
    "mycursor.execute(\"ALTER TABLE customer ADD COLUMN custid INT\")"
   ]
  },
  {
   "cell_type": "code",
   "execution_count": 22,
   "metadata": {},
   "outputs": [],
   "source": [
    "mycursor.execute(\"UPDATE customer SET custid=101 WHERE id=1\")"
   ]
  },
  {
   "cell_type": "code",
   "execution_count": 23,
   "metadata": {},
   "outputs": [
    {
     "name": "stdout",
     "output_type": "stream",
     "text": [
      "('John', 'Delhi 6', 1, 101)\n",
      "('Peter', 'Lowstreet 4', 2, None)\n",
      "('Amy', 'Apple st 652', 3, None)\n",
      "('Michael', 'Valley 345', 5, None)\n",
      "('Sandy', 'Ocean blvd 2', 6, None)\n",
      "('Betty', 'Green Grass 1', 7, None)\n",
      "('Richard', 'Sky st 331', 8, None)\n",
      "('Susan', 'One way 98', 9, None)\n",
      "('Ben', 'Park Lane 38', 11, None)\n",
      "('William', 'Central st 954', 12, None)\n",
      "('Chuck', 'Main Road 989', 13, None)\n",
      "('Viola', 'Sideway 1633', 14, None)\n",
      "('Michelle', 'Blue Village', 15, None)\n"
     ]
    }
   ],
   "source": [
    "mycursor.execute(\"SELECT * FROM customer\")\n",
    "myresult = mycursor.fetchall()\n",
    "for x in myresult:\n",
    "    print(x)"
   ]
  },
  {
   "cell_type": "code",
   "execution_count": null,
   "metadata": {},
   "outputs": [],
   "source": [
    "mycursor.execute(\"UPDATE \")"
   ]
  },
  {
   "cell_type": "code",
   "execution_count": 24,
   "metadata": {
    "scrolled": true
   },
   "outputs": [
    {
     "data": {
      "text/plain": [
       "13"
      ]
     },
     "execution_count": 24,
     "metadata": {},
     "output_type": "execute_result"
    }
   ],
   "source": [
    "len(myresult)"
   ]
  },
  {
   "cell_type": "code",
   "execution_count": 32,
   "metadata": {},
   "outputs": [],
   "source": [
    "count=100\n",
    "for i in range(len(myresult)+3):\n",
    "    mycursor.execute(\"UPDATE customer SET custid={} WHERE id={}\".format(count+i, i))\n",
    "    mydb.commit()"
   ]
  },
  {
   "cell_type": "code",
   "execution_count": 33,
   "metadata": {},
   "outputs": [],
   "source": [
    "mydb = mysql.connector.connect(host='localhost',\n",
    "                               user='ZenithieR',\n",
    "                               passwd='1256',\n",
    "                               database='mydatabase')\n",
    "mycursor = mydb.cursor()"
   ]
  },
  {
   "cell_type": "code",
   "execution_count": 34,
   "metadata": {},
   "outputs": [],
   "source": [
    "mycursor = mydb.cursor()"
   ]
  },
  {
   "cell_type": "code",
   "execution_count": 35,
   "metadata": {},
   "outputs": [
    {
     "name": "stdout",
     "output_type": "stream",
     "text": [
      "('John', 'Delhi 6', 1, 101)\n",
      "('Peter', 'Lowstreet 4', 2, 102)\n",
      "('Amy', 'Apple st 652', 3, 103)\n",
      "('Michael', 'Valley 345', 5, 105)\n",
      "('Sandy', 'Ocean blvd 2', 6, 106)\n",
      "('Betty', 'Green Grass 1', 7, 107)\n",
      "('Richard', 'Sky st 331', 8, 108)\n",
      "('Susan', 'One way 98', 9, 109)\n",
      "('Ben', 'Park Lane 38', 11, 111)\n",
      "('William', 'Central st 954', 12, 112)\n",
      "('Chuck', 'Main Road 989', 13, 113)\n",
      "('Viola', 'Sideway 1633', 14, 114)\n",
      "('Michelle', 'Blue Village', 15, 115)\n"
     ]
    }
   ],
   "source": [
    "mycursor.execute(\"SELECT * FROM customer\")\n",
    "myresult = mycursor.fetchall()\n",
    "for i in myresult:\n",
    "    print(i)"
   ]
  },
  {
   "cell_type": "code",
   "execution_count": 31,
   "metadata": {},
   "outputs": [
    {
     "data": {
      "text/plain": [
       "13"
      ]
     },
     "execution_count": 31,
     "metadata": {},
     "output_type": "execute_result"
    }
   ],
   "source": [
    "len(myresult)"
   ]
  },
  {
   "cell_type": "markdown",
   "metadata": {},
   "source": [
    "### Create New Table"
   ]
  },
  {
   "cell_type": "code",
   "execution_count": 36,
   "metadata": {},
   "outputs": [],
   "source": [
    "mydb = mysql.connector.connect(host='localhost',\n",
    "                               user='ZenithieR',\n",
    "                               passwd='1256',\n",
    "                               database='mydatabase')\n",
    "mycursor = mydb.cursor()"
   ]
  },
  {
   "cell_type": "code",
   "execution_count": 37,
   "metadata": {},
   "outputs": [],
   "source": [
    "mycursor = mydb.cursor()"
   ]
  },
  {
   "cell_type": "code",
   "execution_count": 38,
   "metadata": {},
   "outputs": [],
   "source": [
    "mycursor.execute(\"CREATE TABLE employee (empid INT, Name VARCHAR(255))\")"
   ]
  },
  {
   "cell_type": "code",
   "execution_count": 42,
   "metadata": {},
   "outputs": [],
   "source": [
    "mydb = mysql.connector.connect(host='localhost',\n",
    "                               user='ZenithieR',\n",
    "                               passwd='1256',\n",
    "                               database='mydatabase')\n",
    "mycursor = mydb.cursor()"
   ]
  },
  {
   "cell_type": "code",
   "execution_count": 43,
   "metadata": {},
   "outputs": [],
   "source": [
    "mycursor = mydb.cursor()"
   ]
  },
  {
   "cell_type": "code",
   "execution_count": 48,
   "metadata": {},
   "outputs": [
    {
     "name": "stdout",
     "output_type": "stream",
     "text": [
      "('customer',)\n",
      "('employee',)\n"
     ]
    }
   ],
   "source": [
    "mycursor.execute(\"SHOW TABLES\")\n",
    "for x in mycursor:\n",
    "    print(x)"
   ]
  },
  {
   "cell_type": "code",
   "execution_count": 49,
   "metadata": {},
   "outputs": [],
   "source": [
    "mycursor.execute(\"SELECT * FROM employee\")\n",
    "myresult = mycursor.fetchall()\n",
    "for x in myresult:\n",
    "    print(x)"
   ]
  },
  {
   "cell_type": "code",
   "execution_count": 50,
   "metadata": {},
   "outputs": [],
   "source": [
    "sql = \"INSERT INTO employee (empid, Name) VALUES(%s, %s)\"\n",
    "val = ('101','Joun')\n",
    "mycursor.execute(sql, val)\n",
    "mydb.commit()"
   ]
  },
  {
   "cell_type": "code",
   "execution_count": 52,
   "metadata": {},
   "outputs": [],
   "source": [
    "sql = \"INSERT INTO employee (empid, Name) VALUES(%s, %s)\"\n",
    "val = (102,'Zoun')\n",
    "mycursor.execute(sql, val)\n",
    "mydb.commit()"
   ]
  },
  {
   "cell_type": "code",
   "execution_count": 54,
   "metadata": {},
   "outputs": [],
   "source": [
    "sql = \"INSERT INTO employee (empid, Name) VALUES(%s, %s)\"\n",
    "val = [(103,'Hary'),\n",
    "       (104, 'Stephen'),\n",
    "       (105, 'Joy'),\n",
    "       (106, 'Susan'),\n",
    "       (107, 'Clerk'),\n",
    "       (108, 'Abbey'),\n",
    "       (109, 'Mandy'),\n",
    "       (115, 'Octavia')]\n",
    "mycursor.executemany(sql, val)\n",
    "mydb.commit()"
   ]
  },
  {
   "cell_type": "code",
   "execution_count": 55,
   "metadata": {},
   "outputs": [
    {
     "name": "stdout",
     "output_type": "stream",
     "text": [
      "(101, 'Joun')\n",
      "(102, 'Zoun')\n",
      "(103, 'Hary')\n",
      "(104, 'Stephen')\n",
      "(105, 'Joy')\n",
      "(106, 'Susan')\n",
      "(107, 'Clerk')\n",
      "(108, 'Abbey')\n",
      "(109, 'Mandy')\n",
      "(115, 'Octavia')\n"
     ]
    }
   ],
   "source": [
    "mycursor.execute(\"select * from employee\")\n",
    "myresult = mycursor.fetchall()\n",
    "for x in myresult:\n",
    "    print(x)"
   ]
  },
  {
   "cell_type": "markdown",
   "metadata": {},
   "source": [
    "# Joining the Table\n",
    "\n",
    "# INNER JOIN"
   ]
  },
  {
   "cell_type": "code",
   "execution_count": 56,
   "metadata": {},
   "outputs": [],
   "source": [
    "mydb = mysql.connector.connect(host='localhost',\n",
    "                               user='ZenithieR',\n",
    "                               passwd='1256',\n",
    "                               database='mydatabase')\n",
    "mycursor = mydb.cursor()"
   ]
  },
  {
   "cell_type": "code",
   "execution_count": 57,
   "metadata": {},
   "outputs": [],
   "source": [
    "mycursor = mydb.cursor()"
   ]
  },
  {
   "cell_type": "code",
   "execution_count": 58,
   "metadata": {},
   "outputs": [],
   "source": [
    "sql = \"SELECT \\\n",
    "  customer.name AS user, \\\n",
    "  employee.Name AS Contactor \\\n",
    "  FROM customer \\\n",
    "  INNER JOIN employee ON customer.custid = employee.empid\""
   ]
  },
  {
   "cell_type": "code",
   "execution_count": 59,
   "metadata": {},
   "outputs": [],
   "source": [
    "mycursor.execute(sql)"
   ]
  },
  {
   "cell_type": "code",
   "execution_count": 61,
   "metadata": {},
   "outputs": [
    {
     "name": "stdout",
     "output_type": "stream",
     "text": [
      "('Peter', 'Zoun')\n",
      "('Amy', 'Hary')\n",
      "('Michael', 'Joy')\n",
      "('Sandy', 'Susan')\n",
      "('Betty', 'Clerk')\n",
      "('Richard', 'Abbey')\n",
      "('Susan', 'Mandy')\n",
      "('Michelle', 'Octavia')\n"
     ]
    }
   ],
   "source": [
    "for x in mycursor:\n",
    "    print(x)"
   ]
  },
  {
   "cell_type": "code",
   "execution_count": null,
   "metadata": {},
   "outputs": [],
   "source": []
  },
  {
   "cell_type": "markdown",
   "metadata": {},
   "source": [
    "# RIGHT JOIN"
   ]
  },
  {
   "cell_type": "code",
   "execution_count": 85,
   "metadata": {},
   "outputs": [],
   "source": [
    "mydb = mysql.connector.connect(host='localhost',\n",
    "                               user='ZenithieR',\n",
    "                               passwd='1256',\n",
    "                               database='mydatabase')\n",
    "mycursor = mydb.cursor()"
   ]
  },
  {
   "cell_type": "code",
   "execution_count": 86,
   "metadata": {},
   "outputs": [],
   "source": [
    "mycursor = mydb.cursor()"
   ]
  },
  {
   "cell_type": "code",
   "execution_count": 87,
   "metadata": {},
   "outputs": [],
   "source": [
    "sql = \"SELECT \\\n",
    "  customer.name AS user, \\\n",
    "  employee.Name AS Contactor \\\n",
    "  FROM customer \\\n",
    "  RIGHT JOIN employee ON customer.custid = employee.empid\""
   ]
  },
  {
   "cell_type": "code",
   "execution_count": 88,
   "metadata": {},
   "outputs": [],
   "source": [
    "mycursor.execute(sql)"
   ]
  },
  {
   "cell_type": "code",
   "execution_count": 89,
   "metadata": {},
   "outputs": [
    {
     "name": "stdout",
     "output_type": "stream",
     "text": [
      "('John', 'Joun')\n",
      "('Peter', 'Zoun')\n",
      "('Amy', 'Hary')\n",
      "('Michael', 'Joy')\n",
      "('Sandy', 'Susan')\n",
      "('Betty', 'Clerk')\n",
      "('Richard', 'Abbey')\n",
      "('Susan', 'Mandy')\n",
      "('Michelle', 'Octavia')\n",
      "(None, 'Stephen')\n"
     ]
    }
   ],
   "source": [
    "for x in mycursor:\n",
    "    print(x)"
   ]
  },
  {
   "cell_type": "code",
   "execution_count": null,
   "metadata": {},
   "outputs": [],
   "source": []
  },
  {
   "cell_type": "markdown",
   "metadata": {},
   "source": [
    "# LEFT JOIN"
   ]
  },
  {
   "cell_type": "code",
   "execution_count": 69,
   "metadata": {},
   "outputs": [],
   "source": [
    "mydb = mysql.connector.connect(host='localhost',\n",
    "                               user='ZenithieR',\n",
    "                               passwd='1256',\n",
    "                               database='mydatabase')\n",
    "mycursor = mydb.cursor()"
   ]
  },
  {
   "cell_type": "code",
   "execution_count": 70,
   "metadata": {},
   "outputs": [],
   "source": [
    "mycursor = mydb.cursor()"
   ]
  },
  {
   "cell_type": "code",
   "execution_count": 71,
   "metadata": {},
   "outputs": [],
   "source": [
    "sql = \"SELECT \\\n",
    "  customer.name AS user, \\\n",
    "  employee.Name AS Contactor \\\n",
    "  FROM customer \\\n",
    "  LEFT JOIN employee ON customer.custid = employee.empid\""
   ]
  },
  {
   "cell_type": "code",
   "execution_count": 72,
   "metadata": {},
   "outputs": [],
   "source": [
    "mycursor.execute(sql)"
   ]
  },
  {
   "cell_type": "code",
   "execution_count": 73,
   "metadata": {},
   "outputs": [
    {
     "name": "stdout",
     "output_type": "stream",
     "text": [
      "('John', 'Joun')\n",
      "('Peter', 'Zoun')\n",
      "('Amy', 'Hary')\n",
      "('Michael', 'Joy')\n",
      "('Sandy', 'Susan')\n",
      "('Betty', 'Clerk')\n",
      "('Richard', 'Abbey')\n",
      "('Susan', 'Mandy')\n",
      "('Michelle', 'Octavia')\n",
      "('Ben', None)\n",
      "('William', None)\n",
      "('Chuck', None)\n",
      "('Viola', None)\n"
     ]
    }
   ],
   "source": [
    "for x in mycursor:\n",
    "    print(x)"
   ]
  },
  {
   "cell_type": "code",
   "execution_count": null,
   "metadata": {},
   "outputs": [],
   "source": []
  },
  {
   "cell_type": "code",
   "execution_count": null,
   "metadata": {},
   "outputs": [],
   "source": []
  },
  {
   "cell_type": "code",
   "execution_count": null,
   "metadata": {},
   "outputs": [],
   "source": []
  },
  {
   "cell_type": "code",
   "execution_count": null,
   "metadata": {},
   "outputs": [],
   "source": []
  },
  {
   "cell_type": "code",
   "execution_count": null,
   "metadata": {},
   "outputs": [],
   "source": []
  },
  {
   "cell_type": "code",
   "execution_count": null,
   "metadata": {},
   "outputs": [],
   "source": []
  },
  {
   "cell_type": "code",
   "execution_count": null,
   "metadata": {},
   "outputs": [],
   "source": []
  },
  {
   "cell_type": "code",
   "execution_count": null,
   "metadata": {},
   "outputs": [],
   "source": []
  },
  {
   "cell_type": "code",
   "execution_count": null,
   "metadata": {},
   "outputs": [],
   "source": []
  },
  {
   "cell_type": "code",
   "execution_count": null,
   "metadata": {},
   "outputs": [],
   "source": []
  }
 ],
 "metadata": {
  "kernelspec": {
   "display_name": "Python 3",
   "language": "python",
   "name": "python3"
  },
  "language_info": {
   "codemirror_mode": {
    "name": "ipython",
    "version": 3
   },
   "file_extension": ".py",
   "mimetype": "text/x-python",
   "name": "python",
   "nbconvert_exporter": "python",
   "pygments_lexer": "ipython3",
   "version": "3.7.1"
  }
 },
 "nbformat": 4,
 "nbformat_minor": 2
}
